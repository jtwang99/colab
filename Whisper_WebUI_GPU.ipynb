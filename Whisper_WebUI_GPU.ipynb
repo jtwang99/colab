{
  "nbformat": 4,
  "nbformat_minor": 0,
  "metadata": {
    "colab": {
      "provenance": [],
      "include_colab_link": true
    },
    "kernelspec": {
      "name": "python3",
      "display_name": "Python 3"
    },
    "language_info": {
      "name": "python"
    },
    "accelerator": "GPU"
  },
  "cells": [
    {
      "cell_type": "markdown",
      "metadata": {
        "id": "view-in-github",
        "colab_type": "text"
      },
      "source": [
        "<a href=\"https://colab.research.google.com/github/jtwang99/colab/blob/main/Whisper_WebUI_GPU.ipynb\" target=\"_parent\"><img src=\"https://colab.research.google.com/assets/colab-badge.svg\" alt=\"Open In Colab\"/></a>"
      ]
    },
    {
      "cell_type": "markdown",
      "source": [
        "#Checking out WebUI from Git"
      ],
      "metadata": {
        "id": "7Y78bxUrVzPF"
      }
    },
    {
      "cell_type": "code",
      "execution_count": null,
      "metadata": {
        "id": "h85P7mbOVfby"
      },
      "outputs": [],
      "source": [
        "!git clone https://huggingface.co/spaces/aadnk/whisper-webui"
      ]
    },
    {
      "cell_type": "markdown",
      "source": [
        "Optional: Update Git repository"
      ],
      "metadata": {
        "id": "-mZsftNvqYze"
      }
    },
    {
      "cell_type": "code",
      "source": [
        "!cd whisper-webui/ && git pull origin"
      ],
      "metadata": {
        "id": "rJYJGFJPqbdL"
      },
      "execution_count": null,
      "outputs": []
    },
    {
      "cell_type": "markdown",
      "source": [
        "#Installing dependencies"
      ],
      "metadata": {
        "id": "ohLec8LfWBeM"
      }
    },
    {
      "cell_type": "code",
      "source": [
        "!cd whisper-webui/ && pip install -r requirements.txt"
      ],
      "metadata": {
        "id": "-jCbFjWpV_ci"
      },
      "execution_count": null,
      "outputs": []
    },
    {
      "cell_type": "markdown",
      "source": [
        "#Run WebUI"
      ],
      "metadata": {
        "id": "x55yRVjOWW3c"
      }
    },
    {
      "cell_type": "code",
      "source": [
        "!cd whisper-webui/ && python app.py --input_audio_max_duration -1 --share True"
      ],
      "metadata": {
        "id": "IuL5nGTIWYTY"
      },
      "execution_count": null,
      "outputs": []
    },
    {
      "cell_type": "markdown",
      "source": [
        "# Google Drive\n",
        "\n",
        "This version of the WebUI can automatically save the generated SRT/VTT/Transcript files to Google Drive (requires Google Drive authorization)."
      ],
      "metadata": {
        "id": "Qr-wItBTdr0d"
      }
    },
    {
      "cell_type": "markdown",
      "source": [
        "Mount Google Drive"
      ],
      "metadata": {
        "id": "iEu9Q5yreDEw"
      }
    },
    {
      "cell_type": "code",
      "source": [
        "from google.colab import drive\n",
        "drive.mount('/content/drive')"
      ],
      "metadata": {
        "id": "KHNLATd9d_CP"
      },
      "execution_count": null,
      "outputs": []
    },
    {
      "cell_type": "markdown",
      "source": [
        "Let Whisper use Google Drive as Temp Directory. Note that the directory \"Whisper\" must exist on your Google Drive (or rename it)."
      ],
      "metadata": {
        "id": "fhbQGntFeEwJ"
      }
    },
    {
      "cell_type": "code",
      "source": [
        "!cd whisper-webui/ && python app.py --input_audio_max_duration -1 --share True --auto_parallel True --output_dir /content/drive/MyDrive/Whisper"
      ],
      "metadata": {
        "id": "qaXqjHuCecAg"
      },
      "execution_count": null,
      "outputs": []
    },
    {
      "cell_type": "markdown",
      "source": [
        "# Information"
      ],
      "metadata": {
        "id": "R2mqmp4fQ3k9"
      }
    },
    {
      "cell_type": "markdown",
      "source": [
        "Optional: Get GPU Information (run this before starting the Web UI)"
      ],
      "metadata": {
        "id": "BNZoCQ7v-u2y"
      }
    },
    {
      "cell_type": "code",
      "source": [
        "!nvidia-smi -L"
      ],
      "metadata": {
        "id": "dRgRXEAN-yGH"
      },
      "execution_count": null,
      "outputs": []
    },
    {
      "cell_type": "markdown",
      "source": [
        "Optional: Get environment information"
      ],
      "metadata": {
        "id": "KzIihccPJQFX"
      }
    },
    {
      "cell_type": "code",
      "source": [
        "!pip list"
      ],
      "metadata": {
        "id": "GXlms9oPJTiN"
      },
      "execution_count": null,
      "outputs": []
    }
  ]
}